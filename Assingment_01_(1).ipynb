{
  "nbformat": 4,
  "nbformat_minor": 0,
  "metadata": {
    "colab": {
      "name": "Assingment 01 .ipynb",
      "provenance": []
    },
    "kernelspec": {
      "name": "python3",
      "display_name": "Python 3"
    },
    "language_info": {
      "name": "python"
    }
  },
  "cells": [
    {
      "cell_type": "code",
      "execution_count": null,
      "metadata": {
        "colab": {
          "base_uri": "https://localhost:8080/"
        },
        "id": "d4B58eaQfv86",
        "outputId": "df852bbc-7a15-4959-abe4-66d85162f247"
      },
      "outputs": [
        {
          "output_type": "stream",
          "name": "stdout",
          "text": [
            "Fibonacci Series: 0 1 1 2 3 5 8 13 21 34 55 89 144 233 377 610 987 1597 2584 4181 6765 10946 17711 28657 46368 75025 121393 196418 317811 514229 832040 1346269 2178309 3524578 5702887 9227465 14930352 24157817 39088169 63245986 102334155 165580141 267914296 433494437 701408733 1134903170 1836311903 2971215073 4807526976 7778742049 "
          ]
        }
      ],
      "source": [
        "#python program to print fibonacci series from 0 to 50 numbers\n",
        "a=0\n",
        "b=1\n",
        "sum=0\n",
        "count=1\n",
        "print(\"Fibonacci Series:\",end=\" \")\n",
        "while(count<=50):\n",
        "  print(sum,end=\" \")\n",
        "  count=count+1\n",
        "  a=b\n",
        "  b=sum\n",
        "  sum=a+b"
      ]
    },
    {
      "cell_type": "code",
      "source": [
        "#Write a Python program that accepts a word from the user and reverse it\n",
        "txt = input(\"Enter The String: \") [::-1]\n",
        "print(\"The Reverse String is: \",txt) "
      ],
      "metadata": {
        "colab": {
          "base_uri": "https://localhost:8080/"
        },
        "id": "kXmotp5Ym1my",
        "outputId": "b1b081e5-540c-4ff6-c5ef-7dd9c87fd1e4"
      },
      "execution_count": null,
      "outputs": [
        {
          "output_type": "stream",
          "name": "stdout",
          "text": [
            "Enter The String: Edyoda\n",
            "The Reverse String is:  adoydE\n"
          ]
        }
      ]
    },
    {
      "cell_type": "code",
      "source": [
        "#Write a Python program to count the number of even and odd numbers from a series of numbers\n",
        "numbers=tuple(range(25))\n",
        "print(\"Sample numbers\",numbers)\n",
        "count_even=0\n",
        "count_odd=0\n",
        "\n",
        "for i in numbers:\n",
        "  if(i%2==0):\n",
        "    count_even=count_even+1\n",
        "  else:\n",
        "    count_odd=count_odd+1\n",
        "print(\"Number of even numbers: \",count_even)\n",
        "print(\"Number of odd numbers: \",count_odd)"
      ],
      "metadata": {
        "id": "EiH89eNqjf_9",
        "colab": {
          "base_uri": "https://localhost:8080/"
        },
        "outputId": "6072a092-0d79-4cfc-a1b9-27dcf0d2f6d5"
      },
      "execution_count": 4,
      "outputs": [
        {
          "output_type": "stream",
          "name": "stdout",
          "text": [
            "Sample numbers (0, 1, 2, 3, 4, 5, 6, 7, 8, 9, 10, 11, 12, 13, 14, 15, 16, 17, 18, 19, 20, 21, 22, 23, 24)\n",
            "Number of even numbers:  13\n",
            "Number of odd numbers:  12\n"
          ]
        }
      ]
    },
    {
      "cell_type": "code",
      "source": [
        ""
      ],
      "metadata": {
        "id": "XPjYbIZbmupS"
      },
      "execution_count": null,
      "outputs": []
    }
  ]
}